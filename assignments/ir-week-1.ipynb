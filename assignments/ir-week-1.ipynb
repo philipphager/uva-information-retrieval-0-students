{
 "cells": [
  {
   "cell_type": "code",
   "execution_count": 1,
   "id": "579b2b12",
   "metadata": {
    "pycharm": {
     "name": "#%%\n"
    }
   },
   "outputs": [],
   "source": [
    "!pip install -q pandas==1.3.5"
   ]
  },
  {
   "cell_type": "code",
   "execution_count": 2,
   "id": "bdf3f7e5",
   "metadata": {
    "pycharm": {
     "name": "#%%\n"
    }
   },
   "outputs": [],
   "source": [
    "import doctest\n",
    "import itertools\n",
    "import string\n",
    "\n",
    "import pandas as pd\n",
    "\n",
    "from collections import defaultdict, Counter\n",
    "from typing import Callable, Dict, List"
   ]
  },
  {
   "cell_type": "markdown",
   "id": "442abe78",
   "metadata": {
    "pycharm": {
     "name": "#%% md\n"
    }
   },
   "source": [
    "# Week 1 - The Inverted Index & Boolean Retrieval\n",
    "\n",
    "Welcome to the first assignment of the search engines course 👋\n",
    "\n",
    "The assignment has two mandatory and one optional part. Part I contains questions to answer freely by text. In part II, we build an inverted index and code a small boolean search engine for Netflix content. And lastly, part III is an optional bonus task to extend the search engine to search specifically for genres, actors, etc. You only need to submit parts I and II to pass.\n",
    "\n",
    "For any questions, problems, or feedback please contact your TA. Good luck with the assignment!\n",
    "\n",
    "\n",
    "### Resources\n",
    "\n",
    "📚 [Croft, Metzler, and Strohman - Chapter 1](https://ciir.cs.umass.edu/downloads/SEIRiP.pdf#page=28)\n",
    "\n",
    "📚 [Croft, Metzler, and Strohman - Chapter 7.1](https://ciir.cs.umass.edu/downloads/SEIRiP.pdf#page=257)\n",
    "\n",
    "📚 [Manning, Raghavan, Schütze - Chapter 1](https://nlp.stanford.edu/IR-book/pdf/01bool.pdf)"
   ]
  },
  {
   "cell_type": "markdown",
   "id": "691829c1",
   "metadata": {
    "nbgrader": {
     "grade": false,
     "grade_id": "cell-9f062def3cf0ddce",
     "locked": true,
     "schema_version": 3,
     "solution": false,
     "task": false
    },
    "pycharm": {
     "name": "#%% md\n"
    }
   },
   "source": [
    "# Part I - Intro to IR"
   ]
  },
  {
   "cell_type": "markdown",
   "id": "067e925a",
   "metadata": {
    "nbgrader": {
     "grade": false,
     "grade_id": "cell-8158b08269c45308",
     "locked": true,
     "schema_version": 3,
     "solution": false,
     "task": false
    },
    "pycharm": {
     "name": "#%% md\n"
    }
   },
   "source": [
    "## 1.1 - Information Needs\n",
    "\n",
    "📝 Explain the difference between a user's search query and their information need. Give an example of a query that fits three potential information needs."
   ]
  },
  {
   "cell_type": "markdown",
   "id": "57e6b1fe",
   "metadata": {
    "nbgrader": {
     "grade": true,
     "grade_id": "1_1-information-need",
     "locked": false,
     "points": 0,
     "schema_version": 3,
     "solution": true,
     "task": false
    },
    "pycharm": {
     "name": "#%% md\n"
    }
   },
   "source": [
    "A query is an (attempted) expression of a user's underlying information need. The query `bat` might, among others refer to information needs about:\n",
    "\n",
    "- The animal\n",
    "- The sports equipment\n",
    "- A crypto currency\n",
    "- British American Tobacco\n",
    "- A biker gang from Luxembourg"
   ]
  },
  {
   "cell_type": "markdown",
   "id": "7b311aa2",
   "metadata": {
    "nbgrader": {
     "grade": false,
     "grade_id": "cell-cd526f8ae58f1a17",
     "locked": true,
     "schema_version": 3,
     "solution": false,
     "task": false
    },
    "pycharm": {
     "name": "#%% md\n"
    }
   },
   "source": [
    "## 1.2 - Vocabulary Mismatch\n",
    "\n",
    "The vocabulary mismatch problem occurs when users refer to the same concept with different words. A user might search for a new \"notebook\" and expect to find websites that only mention the term \"laptop\".\n",
    "\n",
    "📝 Think about potential causes of the vocabulary mismatch problem. List three potential causes and explain each with an example."
   ]
  },
  {
   "cell_type": "markdown",
   "id": "4a1d5c53",
   "metadata": {
    "nbgrader": {
     "grade": true,
     "grade_id": "1_2-vocabulary-mismatch",
     "locked": false,
     "points": 0,
     "schema_version": 3,
     "solution": true,
     "task": false
    },
    "pycharm": {
     "name": "#%% md\n"
    }
   },
   "source": [
    "- Synonyms (aircraft, plane)\n",
    "- Spelling errors (mississippi, misissippi)\n",
    "- Different languages (hagelslag, sprinkles)\n",
    "- Inflections (go, went, gone, etc.)\n",
    "- New names (Burma, Myanmar)"
   ]
  },
  {
   "cell_type": "markdown",
   "id": "4fbb73b8",
   "metadata": {
    "nbgrader": {
     "grade": false,
     "grade_id": "cell-f5299d2def09b92b",
     "locked": true,
     "schema_version": 3,
     "solution": false,
     "task": false
    },
    "pycharm": {
     "name": "#%% md\n"
    }
   },
   "source": [
    "## 1.3 - Boolean Retrieval\n",
    "\n",
    "📝 Given the following list of movies:\n",
    "\n",
    "* **Movie 1**: captain america civil war\n",
    "* **Movie 2**: captain america first avenger\n",
    "* **Movie 3**: avenger infinity war\n",
    "* **Movie 4**: black panther\n",
    "* **Movie 5**: captain marvel\n",
    "* **Movie 6**: black widow\n",
    "\n",
    "Which movie ids are returned for the following three queries below?\n",
    "\n",
    "Note your answer as a list of ids, e.g.: `answer = [5, 6]`"
   ]
  },
  {
   "cell_type": "markdown",
   "id": "323104de",
   "metadata": {
    "nbgrader": {
     "grade": false,
     "grade_id": "cell-861ac5ed1db4ffb6",
     "locked": true,
     "schema_version": 3,
     "solution": false,
     "task": false
    },
    "pycharm": {
     "name": "#%% md\n"
    }
   },
   "source": [
    "### 1.3.1 - Query I\n",
    "`america OR avenger`"
   ]
  },
  {
   "cell_type": "code",
   "execution_count": 3,
   "id": "49112c01",
   "metadata": {
    "nbgrader": {
     "grade": false,
     "grade_id": "1_3_1-boolean-retrieval",
     "locked": false,
     "schema_version": 3,
     "solution": true,
     "task": false
    },
    "pycharm": {
     "name": "#%%\n"
    }
   },
   "outputs": [],
   "source": [
    "answer = [\n",
    "    ### BEGIN SOLUTION\n",
    "    1, 2, 3\n",
    "    ### END SOLUTION\n",
    "]"
   ]
  },
  {
   "cell_type": "code",
   "execution_count": 4,
   "id": "8e2ef345",
   "metadata": {
    "nbgrader": {
     "grade": true,
     "grade_id": "test_1_3_1-boolean-retrieval",
     "locked": true,
     "points": 0,
     "schema_version": 3,
     "solution": false,
     "task": false
    },
    "pycharm": {
     "name": "#%%\n"
    }
   },
   "outputs": [],
   "source": [
    "assert all([isinstance(i, int) for i in answer]), \"Movie ids must be integers\"\n",
    "### BEGIN HIDDEN TESTS\n",
    "assert sorted(answer) == [1, 2, 3]\n",
    "### END HIDDEN TESTS"
   ]
  },
  {
   "cell_type": "markdown",
   "id": "b8814887",
   "metadata": {
    "nbgrader": {
     "grade": false,
     "grade_id": "cell-01106cbb9ec724b3",
     "locked": true,
     "schema_version": 3,
     "solution": false,
     "task": false
    },
    "pycharm": {
     "name": "#%% md\n"
    }
   },
   "source": [
    "### 1.3.2 Query II\n",
    "`captain AND NOT avenger`"
   ]
  },
  {
   "cell_type": "code",
   "execution_count": 5,
   "id": "7cd9072f",
   "metadata": {
    "nbgrader": {
     "grade": false,
     "grade_id": "1_3_2-boolean-retrieval",
     "locked": false,
     "schema_version": 3,
     "solution": true,
     "task": false
    },
    "pycharm": {
     "name": "#%%\n"
    }
   },
   "outputs": [],
   "source": [
    "answer = [\n",
    "    ### BEGIN SOLUTION\n",
    "    1, 5\n",
    "    ### END SOLUTION\n",
    "]"
   ]
  },
  {
   "cell_type": "code",
   "execution_count": 6,
   "id": "634d30f3",
   "metadata": {
    "nbgrader": {
     "grade": true,
     "grade_id": "test_1_3_2-boolean-retrieval",
     "locked": true,
     "points": 0,
     "schema_version": 3,
     "solution": false,
     "task": false
    },
    "pycharm": {
     "name": "#%%\n"
    }
   },
   "outputs": [],
   "source": [
    "assert all([isinstance(i, int) for i in answer]), \"Movie ids must be integers\"\n",
    "### BEGIN HIDDEN TESTS\n",
    "assert sorted(answer) == [1, 5]\n",
    "### END HIDDEN TESTS"
   ]
  },
  {
   "cell_type": "markdown",
   "id": "de09e77e",
   "metadata": {
    "nbgrader": {
     "grade": false,
     "grade_id": "cell-2293a985d19b81aa",
     "locked": true,
     "schema_version": 3,
     "solution": false,
     "task": false
    },
    "pycharm": {
     "name": "#%% md\n"
    }
   },
   "source": [
    "### 1.3.3 Query III\n",
    "`(marvel OR america) AND NOT (captain AND war)`"
   ]
  },
  {
   "cell_type": "code",
   "execution_count": 7,
   "id": "3ab70ab8",
   "metadata": {
    "nbgrader": {
     "grade": false,
     "grade_id": "1_3_3-boolean-retrieval",
     "locked": false,
     "schema_version": 3,
     "solution": true,
     "task": false
    },
    "pycharm": {
     "name": "#%%\n"
    }
   },
   "outputs": [],
   "source": [
    "answer = [\n",
    "    ### BEGIN SOLUTION\n",
    "    2, 5\n",
    "    ### END SOLUTION\n",
    "]"
   ]
  },
  {
   "cell_type": "code",
   "execution_count": 8,
   "id": "54188cfd",
   "metadata": {
    "nbgrader": {
     "grade": true,
     "grade_id": "test_1_3_3-boolean-retrieval",
     "locked": true,
     "points": 0,
     "schema_version": 3,
     "solution": false,
     "task": false
    },
    "pycharm": {
     "name": "#%%\n"
    }
   },
   "outputs": [],
   "source": [
    "assert all([isinstance(i, int) for i in answer]), \"Movie ids must be integers\"\n",
    "### BEGIN HIDDEN TESTS\n",
    "assert sorted(answer) == [2, 5]\n",
    "### END HIDDEN TESTS"
   ]
  },
  {
   "cell_type": "markdown",
   "id": "eed02eeb",
   "metadata": {
    "nbgrader": {
     "grade": false,
     "grade_id": "cell-aa084a46892a9ab2",
     "locked": true,
     "schema_version": 3,
     "solution": false,
     "task": false
    },
    "pycharm": {
     "name": "#%% md\n"
    }
   },
   "source": [
    "# Part II - Building a Boolean Search Engine for Netflix\n",
    "\n",
    "In this week's coding task, we will build an inverted index for movies and execute multiple boolean queries on them. In the end, we will add an extension to add a ranking to our boolean search engine.\n",
    "\n",
    "Note that all tasks below have doctests at the top of each function to help you verify your implementation before submitting the notebook. The final grading will be performed with additional tests that are not in this notebook.\n",
    "\n",
    "But first, begin by downloading the dataset for this week into a Pandas DataFrame by executing the cell below.\n",
    "\n",
    "\n",
    "## Load data"
   ]
  },
  {
   "cell_type": "code",
   "execution_count": 9,
   "id": "ad2f9c16",
   "metadata": {
    "nbgrader": {
     "grade": false,
     "grade_id": "cell-70db2a7ae52d2e92",
     "locked": true,
     "schema_version": 3,
     "solution": false,
     "task": false
    },
    "pycharm": {
     "name": "#%%\n"
    }
   },
   "outputs": [
    {
     "data": {
      "text/html": [
       "<div>\n",
       "<style scoped>\n",
       "    .dataframe tbody tr th:only-of-type {\n",
       "        vertical-align: middle;\n",
       "    }\n",
       "\n",
       "    .dataframe tbody tr th {\n",
       "        vertical-align: top;\n",
       "    }\n",
       "\n",
       "    .dataframe thead th {\n",
       "        text-align: right;\n",
       "    }\n",
       "</style>\n",
       "<table border=\"1\" class=\"dataframe\">\n",
       "  <thead>\n",
       "    <tr style=\"text-align: right;\">\n",
       "      <th></th>\n",
       "      <th>id</th>\n",
       "      <th>title</th>\n",
       "      <th>description</th>\n",
       "      <th>type</th>\n",
       "      <th>release_year</th>\n",
       "      <th>genres</th>\n",
       "      <th>directors</th>\n",
       "      <th>actors</th>\n",
       "    </tr>\n",
       "  </thead>\n",
       "  <tbody>\n",
       "    <tr>\n",
       "      <th>0</th>\n",
       "      <td>0</td>\n",
       "      <td>five came back: the reference films</td>\n",
       "      <td>this collection includes 12 world war ii-era p...</td>\n",
       "      <td>show</td>\n",
       "      <td>1945</td>\n",
       "      <td>[documentation]</td>\n",
       "      <td>[]</td>\n",
       "      <td>[]</td>\n",
       "    </tr>\n",
       "    <tr>\n",
       "      <th>1</th>\n",
       "      <td>1</td>\n",
       "      <td>the blazing sun</td>\n",
       "      <td>a rich landlord floods and destroys a village ...</td>\n",
       "      <td>movie</td>\n",
       "      <td>1954</td>\n",
       "      <td>[crime, romance, drama]</td>\n",
       "      <td>[youssef-chahine]</td>\n",
       "      <td>[faten-hamamah, omar-sharif, zaki-rostom, fari...</td>\n",
       "    </tr>\n",
       "    <tr>\n",
       "      <th>2</th>\n",
       "      <td>2</td>\n",
       "      <td>white christmas</td>\n",
       "      <td>two talented song-and-dance men team up after ...</td>\n",
       "      <td>movie</td>\n",
       "      <td>1954</td>\n",
       "      <td>[romance, comedy]</td>\n",
       "      <td>[michael-curtiz]</td>\n",
       "      <td>[bing-crosby, danny-kaye, rosemary-clooney, ve...</td>\n",
       "    </tr>\n",
       "    <tr>\n",
       "      <th>3</th>\n",
       "      <td>3</td>\n",
       "      <td>dark waters</td>\n",
       "      <td>ragab, a poor sailor, returns home to alexandr...</td>\n",
       "      <td>movie</td>\n",
       "      <td>1956</td>\n",
       "      <td>[action, drama, romance, thriller]</td>\n",
       "      <td>[youssef-chahine]</td>\n",
       "      <td>[omar-sharif, faten-hamamah, ahmed-ramzy, tewf...</td>\n",
       "    </tr>\n",
       "    <tr>\n",
       "      <th>4</th>\n",
       "      <td>4</td>\n",
       "      <td>cairo station</td>\n",
       "      <td>qinawi, a physically challenged peddler who ma...</td>\n",
       "      <td>movie</td>\n",
       "      <td>1958</td>\n",
       "      <td>[drama, crime, comedy]</td>\n",
       "      <td>[youssef-chahine]</td>\n",
       "      <td>[farid-shawqi, hind-rostom, youssef-chahine, h...</td>\n",
       "    </tr>\n",
       "  </tbody>\n",
       "</table>\n",
       "</div>"
      ],
      "text/plain": [
       "   id                                title  \\\n",
       "0   0  five came back: the reference films   \n",
       "1   1                      the blazing sun   \n",
       "2   2                      white christmas   \n",
       "3   3                          dark waters   \n",
       "4   4                        cairo station   \n",
       "\n",
       "                                         description   type  release_year  \\\n",
       "0  this collection includes 12 world war ii-era p...   show          1945   \n",
       "1  a rich landlord floods and destroys a village ...  movie          1954   \n",
       "2  two talented song-and-dance men team up after ...  movie          1954   \n",
       "3  ragab, a poor sailor, returns home to alexandr...  movie          1956   \n",
       "4  qinawi, a physically challenged peddler who ma...  movie          1958   \n",
       "\n",
       "                               genres          directors  \\\n",
       "0                     [documentation]                 []   \n",
       "1             [crime, romance, drama]  [youssef-chahine]   \n",
       "2                   [romance, comedy]   [michael-curtiz]   \n",
       "3  [action, drama, romance, thriller]  [youssef-chahine]   \n",
       "4              [drama, crime, comedy]  [youssef-chahine]   \n",
       "\n",
       "                                              actors  \n",
       "0                                                 []  \n",
       "1  [faten-hamamah, omar-sharif, zaki-rostom, fari...  \n",
       "2  [bing-crosby, danny-kaye, rosemary-clooney, ve...  \n",
       "3  [omar-sharif, faten-hamamah, ahmed-ramzy, tewf...  \n",
       "4  [farid-shawqi, hind-rostom, youssef-chahine, h...  "
      ]
     },
     "execution_count": 9,
     "metadata": {},
     "output_type": "execute_result"
    }
   ],
   "source": [
    "def load_movies(\n",
    "    url: str = \"https://raw.githubusercontent.com/philipphager/uva-ir0/main/data/netflix.csv\"\n",
    ") -> pd.DataFrame:\n",
    "    df = pd.read_csv(url)\n",
    "    df = df.fillna(\"\")\n",
    "    df[\"genres\"] = df[\"genres\"].str.split(\"|\")\n",
    "    df[\"directors\"] = df[\"directors\"].str.split(\"|\")\n",
    "    df[\"actors\"] = df[\"actors\"].str.split(\"|\")\n",
    "    return df\n",
    "\n",
    "def test(fn: Callable):\n",
    "    doctest.run_docstring_examples(fn, globals(), verbose=True, name=fn.__name__)\n",
    "    \n",
    "df = load_movies()\n",
    "df.head()"
   ]
  },
  {
   "cell_type": "markdown",
   "id": "d58cdf35",
   "metadata": {
    "nbgrader": {
     "grade": false,
     "grade_id": "cell-d8371a4151a40a0b",
     "locked": true,
     "schema_version": 3,
     "solution": false,
     "task": false
    },
    "pycharm": {
     "name": "#%% md\n"
    }
   },
   "source": [
    "## 2.1 Inverted Index\n",
    "\n",
    "📝  The first coding task is to build an inverted index for tokens in the **movie title and description**.\n",
    "Since we will learn text preprocessing in an upcoming week, use the provided method `tokenize(text: str) -> List[str]` to split text into individual words. Lastly, ensure that each movie id is only added once for a given token in your index (we will look into counting terms for ranking in week 3).\n",
    "\n",
    "Create your inverted index as a Python dictionary, pointing from each token to a sorted list of movie ids:\n",
    "\n",
    "```Python\n",
    "{\n",
    "    \"netflix\": [1029, 1038, 1155, ...],\n",
    "    \"original\": [218, 508, 1029, ...]\n",
    "    ...\n",
    "}\n",
    "```\n",
    "\n",
    "</br>\n",
    "<div class=\"alert alert-warning\">\n",
    "💡 Tip: The \"collections.defaultdict\" class might be helpful to simplify your code. But its absolutely fine to not use it to resolve this task.\n",
    "</div>"
   ]
  },
  {
   "cell_type": "code",
   "execution_count": 10,
   "id": "16d5194d",
   "metadata": {
    "nbgrader": {
     "grade": false,
     "grade_id": "cell-ed50c3c3f93e1ed3",
     "locked": true,
     "schema_version": 3,
     "solution": false,
     "task": false
    },
    "pycharm": {
     "name": "#%%\n"
    }
   },
   "outputs": [],
   "source": [
    "def tokenize(text: str) -> List[str]:    \n",
    "    # Lowercase all text\n",
    "    text = text.lower()\n",
    "    # Naively remove all punctuation from text\n",
    "    text = text.translate(str.maketrans(\"\", \"\", string.punctuation))\n",
    "    # Naively split text into tokens on whitespace\n",
    "    return text.split()"
   ]
  },
  {
   "cell_type": "code",
   "execution_count": 11,
   "id": "38f127f0",
   "metadata": {
    "nbgrader": {
     "grade": false,
     "grade_id": "2_1-inverted-index",
     "locked": false,
     "schema_version": 3,
     "solution": true,
     "task": false
    },
    "pycharm": {
     "name": "#%%\n"
    }
   },
   "outputs": [],
   "source": [
    "def create_index(df: pd.DataFrame) -> Dict[str, List[int]]:\n",
    "    \"\"\"\n",
    "    >>> create_index(df)[\"witcher\"]\n",
    "    [3829, 4303, 4305, 4416, 4727, 5168, 5207]\n",
    "    \n",
    "    >>> create_index(df)[\"ozark\"]\n",
    "    [2230, 5695]\n",
    "    \"\"\"\n",
    "    index = {}\n",
    "\n",
    "    # Example of how to iterate over a dataframe\n",
    "    for i, row in df.iterrows():\n",
    "        # You can access details for each movie using the row variable:\n",
    "        # E.g., row.id, row.title, row.description\n",
    "        pass\n",
    "    \n",
    "    ### BEGIN SOLUTION\n",
    "    index = defaultdict(list)\n",
    "    \n",
    "    for i, row in df.iterrows():\n",
    "        tokens = tokenize(row.title) + tokenize(row.description)\n",
    "        \n",
    "        for token in set(tokens):\n",
    "            index[token].append(row.id)\n",
    "    ### END SOLUTION\n",
    "\n",
    "    return index\n",
    "\n",
    "index = create_index(df)"
   ]
  },
  {
   "cell_type": "code",
   "execution_count": 12,
   "id": "059c2e78",
   "metadata": {
    "nbgrader": {
     "grade": true,
     "grade_id": "test_2_1-inverted-index",
     "locked": true,
     "points": 0,
     "schema_version": 3,
     "solution": false,
     "task": false
    },
    "pycharm": {
     "name": "#%%\n"
    }
   },
   "outputs": [
    {
     "name": "stdout",
     "output_type": "stream",
     "text": [
      "Finding tests in create_index\n",
      "Trying:\n",
      "    create_index(df)[\"witcher\"]\n",
      "Expecting:\n",
      "    [3829, 4303, 4305, 4416, 4727, 5168, 5207]\n",
      "ok\n",
      "Trying:\n",
      "    create_index(df)[\"ozark\"]\n",
      "Expecting:\n",
      "    [2230, 5695]\n",
      "ok\n"
     ]
    }
   ],
   "source": [
    "test(create_index)\n",
    "### BEGIN HIDDEN TESTS\n",
    "for token, postings in index.items():\n",
    "    assert isinstance(token, str), f\"Token not str: '{token}'\"\n",
    "    assert all([isinstance(p, int) for p in postings]), f\"Postings not ints: {postings}\"\n",
    "    assert postings == sorted(postings), f\"Postings for '{token}' not sorted asc: {postings}\"\n",
    "\n",
    "assert len(index) == 25889\n",
    "assert index[\"gambit\"] == [4062, 4156, 4795]\n",
    "assert index[\"bridgerton\"] == [4070, 4758]\n",
    "assert index[\"computer\"] == [144, 145, 213, 416, 1066, 1451, 1666, 3010, 3642, 3986, 5501, 5526]\n",
    "### END HIDDEN TESTS"
   ]
  },
  {
   "cell_type": "markdown",
   "id": "3b4669a6",
   "metadata": {
    "nbgrader": {
     "grade": false,
     "grade_id": "cell-c7922acd67fcd22b",
     "locked": true,
     "schema_version": 3,
     "solution": false,
     "task": false
    },
    "pycharm": {
     "name": "#%% md\n"
    }
   },
   "source": [
    "## 2.2 Boolean AND search\n",
    "\n",
    "📝  Next, we use our inverted index to answer boolean AND queries (also called conjunctive queries). Complete the function `search_and` to return a list of movie titles given a list of keywords connected by AND operators. The call:\n",
    "\n",
    "`search_and(index, [\"captain\", \"america\", \"avenger\"]) -> List[str]`\n",
    "\n",
    "should corresponds to the boolean query:\n",
    "\n",
    "`captain AND america AND avenger`\n",
    "\n",
    "Sort the resulting movie titles alphabetically.\n",
    "\n",
    "\n",
    "</br>\n",
    "<div class=\"alert alert-warning\">\n",
    "💡 Tip I: Use the helper dictionary \"id2title\" to lookup a movie's title using its id.\n",
    "<br/>\n",
    "💡 Tip II: Python set operations might come in handy to quickly find common elements between two lists.\n",
    "</div>"
   ]
  },
  {
   "cell_type": "code",
   "execution_count": 13,
   "id": "2a336779",
   "metadata": {
    "nbgrader": {
     "grade": false,
     "grade_id": "2_2-search-and",
     "locked": false,
     "schema_version": 3,
     "solution": true,
     "task": false
    },
    "pycharm": {
     "name": "#%%\n"
    }
   },
   "outputs": [],
   "source": [
    "# Create a mapping of move ids to their title\n",
    "id2title = df.set_index(\"id\").title.to_dict()\n",
    "\n",
    "\n",
    "def search_and(index: Dict, tokens: List[str]) -> List[str]:\n",
    "    \"\"\"\n",
    "    >>> search_and(index, [\"stranger\", \"things\"])\n",
    "    ['beyond stranger things', 'stranger things']\n",
    "    \n",
    "    >>> search_and(index, [\"black\", \"mirror\"])\n",
    "    ['black mirror', 'black mirror: bandersnatch', 'death to 2020']\n",
    "    \n",
    "    >>> search_and(index, [\"black\", \"mirror\", \"bandersnatch\"])\n",
    "    ['black mirror: bandersnatch']\n",
    "    \"\"\"\n",
    "    titles = []\n",
    "\n",
    "    ### BEGIN SOLUTION\n",
    "    movie_ids = map(lambda t: set(index[t]), tokens)\n",
    "    movie_ids = set.intersection(*movie_ids)\n",
    "    titles = sorted(map(lambda x: id2title[x], movie_ids))\n",
    "    ### END SOLUTION\n",
    "\n",
    "    return titles"
   ]
  },
  {
   "cell_type": "code",
   "execution_count": 14,
   "id": "e9df1159",
   "metadata": {
    "nbgrader": {
     "grade": true,
     "grade_id": "test_2_2-search-and",
     "locked": true,
     "points": 0,
     "schema_version": 3,
     "solution": false,
     "task": false
    },
    "scrolled": true
   },
   "outputs": [
    {
     "name": "stdout",
     "output_type": "stream",
     "text": [
      "Finding tests in search_and\n",
      "Trying:\n",
      "    search_and(index, [\"stranger\", \"things\"])\n",
      "Expecting:\n",
      "    ['beyond stranger things', 'stranger things']\n",
      "ok\n",
      "Trying:\n",
      "    search_and(index, [\"black\", \"mirror\"])\n",
      "Expecting:\n",
      "    ['black mirror', 'black mirror: bandersnatch', 'death to 2020']\n",
      "ok\n",
      "Trying:\n",
      "    search_and(index, [\"black\", \"mirror\", \"bandersnatch\"])\n",
      "Expecting:\n",
      "    ['black mirror: bandersnatch']\n",
      "ok\n"
     ]
    }
   ],
   "source": [
    "test(search_and)\n",
    "### BEGIN HIDDEN TESTS\n",
    "assert search_and(index, [\"stranger\", \"things\", \"beyond\"]) == [\"beyond stranger things\"]\n",
    "assert search_and(index, [\"christmas\", \"prince\", \"royal\"]) == ['a christmas prince', 'a christmas prince: the royal baby', 'a christmas prince: the royal wedding', 'a princess for christmas', 'christmas with a prince']\n",
    "assert search_and(index, [\"monty\", \"python\", \"live\"]) == ['monty python live at the hollywood bowl', 'monty python: live (mostly)', 'monty python: live at aspen', 'monty python: the meaning of live']\n",
    "### END HIDDEN TESTS"
   ]
  },
  {
   "cell_type": "markdown",
   "id": "84415bd9",
   "metadata": {
    "nbgrader": {
     "grade": false,
     "grade_id": "cell-545964d569ac6878",
     "locked": true,
     "schema_version": 3,
     "solution": false,
     "task": false
    }
   },
   "source": [
    "## 2.3 Boolean OR search\n",
    "\n",
    "📝  Next, complete the method `search_or` to answer disjuctive / OR queries.\n",
    "\n",
    "`search_or(index, [\"captain\", \"america\", \"avenger\"]) -> List[str]`\n",
    "\n",
    "should corresponds to the boolean query:\n",
    "\n",
    "`captain OR america OR avenger`\n",
    "\n",
    "Sort the resulting titles alphabetically."
   ]
  },
  {
   "cell_type": "code",
   "execution_count": 15,
   "id": "74bf68b8",
   "metadata": {
    "nbgrader": {
     "grade": false,
     "grade_id": "2_3-search-or",
     "locked": false,
     "schema_version": 3,
     "solution": true,
     "task": false
    },
    "pycharm": {
     "name": "#%%\n"
    }
   },
   "outputs": [],
   "source": [
    "def search_or(index: Dict, tokens: List[str]):\n",
    "    \"\"\"\n",
    "    >>> search_or(index, [\"mindhunter\", \"se7en\"])\n",
    "    ['mindhunter', 'se7en']\n",
    "    \n",
    "    >>> search_or(index, [\"burnham\", \"brennan\"])\n",
    "    ['bo burnham: inside', 'bo burnham: make happy', 'neal brennan: 3 mics']\n",
    "    \"\"\"\n",
    "    titles = []\n",
    "\n",
    "    ### BEGIN SOLUTION\n",
    "    movie_ids = map(lambda t: set(index[t]), tokens)\n",
    "    movie_ids = set.union(*movie_ids)\n",
    "    titles = sorted(map(lambda x: id2title[x], movie_ids))\n",
    "    ### END SOLUTION\n",
    "\n",
    "    return titles"
   ]
  },
  {
   "cell_type": "code",
   "execution_count": 16,
   "id": "abca25b9",
   "metadata": {
    "nbgrader": {
     "grade": true,
     "grade_id": "test_2_3-search-or",
     "locked": true,
     "points": 0,
     "schema_version": 3,
     "solution": false,
     "task": false
    }
   },
   "outputs": [
    {
     "name": "stdout",
     "output_type": "stream",
     "text": [
      "Finding tests in search_or\n",
      "Trying:\n",
      "    search_or(index, [\"mindhunter\", \"se7en\"])\n",
      "Expecting:\n",
      "    ['mindhunter', 'se7en']\n",
      "ok\n",
      "Trying:\n",
      "    search_or(index, [\"burnham\", \"brennan\"])\n",
      "Expecting:\n",
      "    ['bo burnham: inside', 'bo burnham: make happy', 'neal brennan: 3 mics']\n",
      "ok\n"
     ]
    }
   ],
   "source": [
    "test(search_or)\n",
    "### BEGIN HIDDEN TESTS\n",
    "assert search_or(index, [\"burnham\", \"chappelle\"]) == ['bo burnham: inside', 'bo burnham: make happy', 'dave chappelle', 'dave chappelle: equanimity & the bird revelation', 'dave chappelle: sticks & stones', 'dave chappelle: the closer', 'dave chappelle: the kennedy center mark twain prize', \"dave chappelle: what's in a name?\", 'the hall: honoring the greats of stand-up']\n",
    "assert search_or(index, [\"gambit\", \"ozark\"]) == ['a farewell to ozark', \"creating the queen's gambit\", 'ozark', 'the netflix afterparty: the best shows of the worst year', \"the queen's gambit\"]\n",
    "assert search_or(index, [\"batman\", \"joker\"]) == ['3 idiots', 'batman: the killing joke', 'gotham', 'lego dc comics super heroes: batman be-leaguered', 'the dark knight rises']\n",
    "### END HIDDEN TESTS"
   ]
  },
  {
   "cell_type": "markdown",
   "id": "fbe52a4e",
   "metadata": {
    "nbgrader": {
     "grade": false,
     "grade_id": "cell-43bd76f1d9a60a6a",
     "locked": true,
     "schema_version": 3,
     "solution": false,
     "task": false
    }
   },
   "source": [
    "## 2.4 Boolean AND NOT\n",
    "📝  Third, extend your answer to the conjunctive query from 2.2 above to handle a list of negated terms.\n",
    "\n",
    "`search_and_not(index, [\"queens\", \"gambit\"], [\"netflix\", \"afterparty\"]) -> List[str]`\n",
    "\n",
    "should corresponds to the boolean query:\n",
    "\n",
    "`queens AND gambit AND NOT (\"netflix\" OR \"afterparty\")`\n",
    "\n",
    "Sort the resulting titles alphabetically.\n",
    "\n",
    "<div class=\"alert alert-warning\">\n",
    "💡 Tip: Think about how you can incorporate the \"search_and\" and \"search_or\" methods from above to make this task easier.\n",
    "</div>"
   ]
  },
  {
   "cell_type": "code",
   "execution_count": 17,
   "id": "5fec1415",
   "metadata": {
    "nbgrader": {
     "grade": false,
     "grade_id": "2_4-search-and-not",
     "locked": false,
     "schema_version": 3,
     "solution": true,
     "task": false
    },
    "pycharm": {
     "name": "#%%\n"
    }
   },
   "outputs": [],
   "source": [
    "def search_and_not(index: Dict, tokens: List[str], excluded_tokens: List[str] = []):\n",
    "    \"\"\"    \n",
    "    >>> search_and_not(index, [\"stranger\", \"things\"], [\"beyond\"])\n",
    "    ['stranger things']\n",
    "    \n",
    "    >>> search_and_not(index, [\"queens\", \"gambit\"], [\"netflix\", \"afterparty\"])\n",
    "    [\"creating the queen's gambit\", \"the queen's gambit\"]\n",
    "    \n",
    "    >>> search_and_not(index, [\"queens\", \"gambit\"], [\"netflix\", \"afterparty\", \"creating\"])\n",
    "    [\"the queen's gambit\"]\n",
    "    \n",
    "    >>> search_and_not(index, [\"batman\"], [\"lego\"])\n",
    "    ['batman: the killing joke', 'the dark knight rises']\n",
    "    \"\"\"\n",
    "    titles = []\n",
    "\n",
    "    ### BEGIN SOLUTION\n",
    "    all_titles = search_and(index, tokens)\n",
    "    excluded_titles = search_or(index, excluded_tokens)\n",
    "    titles = sorted(set(all_titles) - set(excluded_titles))\n",
    "    ### END SOLUTION\n",
    "    \n",
    "    return titles"
   ]
  },
  {
   "cell_type": "code",
   "execution_count": 18,
   "id": "178bd88a",
   "metadata": {
    "nbgrader": {
     "grade": true,
     "grade_id": "test_2_4-search-and-not",
     "locked": true,
     "points": 0,
     "schema_version": 3,
     "solution": false,
     "task": false
    }
   },
   "outputs": [
    {
     "name": "stdout",
     "output_type": "stream",
     "text": [
      "Finding tests in search_and_not\n",
      "Trying:\n",
      "    search_and_not(index, [\"stranger\", \"things\"], [\"beyond\"])\n",
      "Expecting:\n",
      "    ['stranger things']\n",
      "ok\n",
      "Trying:\n",
      "    search_and_not(index, [\"queens\", \"gambit\"], [\"netflix\", \"afterparty\"])\n",
      "Expecting:\n",
      "    [\"creating the queen's gambit\", \"the queen's gambit\"]\n",
      "ok\n",
      "Trying:\n",
      "    search_and_not(index, [\"queens\", \"gambit\"], [\"netflix\", \"afterparty\", \"creating\"])\n",
      "Expecting:\n",
      "    [\"the queen's gambit\"]\n",
      "ok\n",
      "Trying:\n",
      "    search_and_not(index, [\"batman\"], [\"lego\"])\n",
      "Expecting:\n",
      "    ['batman: the killing joke', 'the dark knight rises']\n",
      "ok\n"
     ]
    }
   ],
   "source": [
    "test(search_and_not)\n",
    "### BEGIN HIDDEN TESTS\n",
    "assert search_and_not(index, [\"batman\"], [\"lego\"]) == ['batman: the killing joke', 'the dark knight rises']\n",
    "assert search_and_not(index, [\"stranger\", \"things\"], [\"beyond\"]) == ['stranger things']\n",
    "assert search_and_not(index, [\"ozark\"], [\"farewell\"]) == [\"ozark\"]\n",
    "### END HIDDEN TESTS"
   ]
  },
  {
   "cell_type": "markdown",
   "id": "09bb5563",
   "metadata": {
    "nbgrader": {
     "grade": false,
     "grade_id": "cell-0a8b90c72a1c1856",
     "locked": true,
     "schema_version": 3,
     "solution": false,
     "task": false
    }
   },
   "source": [
    "## 2.5 Ranked Boolean Search\n",
    "Lastly, we create a simple ranking for our boolean search. By definition, boolean search is NOT ranked, but returns all items that match the query. However, we can introduce a simple ranking for an OR search, for example, by listing documents that match more query terms at the top.\n",
    "\n",
    "📝 Extend your OR search from 2.3 to return a ranked list of movies. Return not only the movie titles but the number of matching query tokens for the movie. A query `[\"black\", \"mirror\"]` might result in: `[(\"black mirror\", 2), (\"black panther\", 1), ...]`\n",
    "\n",
    "Rank the resulting movies from most matching keywords to least matching keywords. When two movies have the same amount of matches, rank them ascendingly by movie title (A -> Z). Since the resulting list can get very long, return only the top k results.\n",
    "\n",
    "<div class=\"alert alert-warning\">\n",
    "💡 Tip: The \"collections.Counter\" class might be a useful tool to simplify your code. Its not necessary to use it.\n",
    "</div>"
   ]
  },
  {
   "cell_type": "code",
   "execution_count": 19,
   "id": "de022e32",
   "metadata": {
    "nbgrader": {
     "grade": false,
     "grade_id": "2_5-search-ranked-or",
     "locked": false,
     "schema_version": 3,
     "solution": true,
     "task": false
    },
    "pycharm": {
     "name": "#%%\n"
    }
   },
   "outputs": [],
   "source": [
    "def search_ranked_or(index: Dict, tokens: List[str], top_k: int):\n",
    "    \"\"\"\n",
    "    >>> search_ranked_or(index, [\"world\", \"planet\", \"david\", \"attenborough\"], 4)\n",
    "    [('david attenborough: a life on our planet', 4), ('breaking boundaries: the science of our planet', 3), ('aerials', 2), ('dark tourist', 2)]\n",
    "    \n",
    "    >>> search_ranked_or(index, [\"teenage\", \"drug\", \"lord\", \"fast\"], 3)\n",
    "    [('shiny_flakes: the teenage drug lord', 4), ('how to sell drugs online (fast)', 3), ('contraband', 2)]\n",
    "    \n",
    "    >>> search_ranked_or(index, [\"black\", \"mirror\", \"2020\"], 3)\n",
    "    [('death to 2020', 3), ('black mirror', 2), ('black mirror: bandersnatch', 2)]\n",
    "    \"\"\"\n",
    "    titles = []\n",
    "\n",
    "    ### BEGIN SOLUTION\n",
    "    counter = Counter()\n",
    "    \n",
    "    for token in tokens:\n",
    "        counter.update(index[token])\n",
    "    \n",
    "    titles = [(id2title[m], matches) for m, matches in counter.items()]\n",
    "    titles = sorted(titles, key=lambda x: (-x[1], x[0]))\n",
    "    ### END SOLUTION\n",
    "\n",
    "    return titles[:top_k]"
   ]
  },
  {
   "cell_type": "code",
   "execution_count": 20,
   "id": "ea4f0c4f",
   "metadata": {
    "nbgrader": {
     "grade": true,
     "grade_id": "test_2_5-search-ranked-or",
     "locked": true,
     "points": 0,
     "schema_version": 3,
     "solution": false,
     "task": false
    }
   },
   "outputs": [
    {
     "name": "stdout",
     "output_type": "stream",
     "text": [
      "Finding tests in search_ranked_or\n",
      "Trying:\n",
      "    search_ranked_or(index, [\"world\", \"planet\", \"david\", \"attenborough\"], 4)\n",
      "Expecting:\n",
      "    [('david attenborough: a life on our planet', 4), ('breaking boundaries: the science of our planet', 3), ('aerials', 2), ('dark tourist', 2)]\n",
      "ok\n",
      "Trying:\n",
      "    search_ranked_or(index, [\"teenage\", \"drug\", \"lord\", \"fast\"], 3)\n",
      "Expecting:\n",
      "    [('shiny_flakes: the teenage drug lord', 4), ('how to sell drugs online (fast)', 3), ('contraband', 2)]\n",
      "ok\n",
      "Trying:\n",
      "    search_ranked_or(index, [\"black\", \"mirror\", \"2020\"], 3)\n",
      "Expecting:\n",
      "    [('death to 2020', 3), ('black mirror', 2), ('black mirror: bandersnatch', 2)]\n",
      "ok\n"
     ]
    }
   ],
   "source": [
    "test(search_ranked_or)\n",
    "### BEGIN HIDDEN TESTS\n",
    "assert search_ranked_or(index, [\"burnham\", \"brennan\"], 1) == [('bo burnham: inside', 1)]\n",
    "assert search_ranked_or(index, [\"burnham\", \"brennan\"], 3) == [('bo burnham: inside', 1), ('bo burnham: make happy', 1), ('neal brennan: 3 mics', 1)]\n",
    "assert search_ranked_or(index, [\"chris\", \"rock\", \"tamborine\"], 3) == [('chris rock total blackout: the tamborine extended cut', 3), ('chris rock: tamborine', 3), ('dirty daddy: the bob saget tribute', 2)]\n",
    "### END HIDDEN TESTS"
   ]
  },
  {
   "cell_type": "markdown",
   "id": "b85d5545",
   "metadata": {
    "nbgrader": {
     "grade": false,
     "grade_id": "cell-d6b119d70a2c127f",
     "locked": true,
     "schema_version": 3,
     "solution": false,
     "task": false
    }
   },
   "source": [
    "# Part III Bonus - Parametric Search\n",
    "\n",
    "Search systems often allow for more detailed filtering of results using search parameters. These can come in useful to only show hotels in our price range, clothes in our size, or last-minute presents that ship with same-day delivery. This functionality is traditionally enabled using parametric indices, which index the meta-data of our items. In the case of movies, that might include fields like genre, author, or length.\n",
    "\n",
    "As an optional bonus task, extend the index created in task 2.1 to contain movie meta-data information. Add the movies' `genres`, `directors`, `actors`, and `release year` to the same index by creating compound keys such as:\n",
    "\n",
    "```Python\n",
    "{\n",
    "    \"genre:comedy\": [id_1, id_2, ...],\n",
    "    \"director:quentin-tarentino\": [movie_ids],\n",
    "    \"actor:meryl-streep\": [movie_ids],\n",
    "    \"year:2020\": [movie_ids]\n",
    "    ...\n",
    "}\n",
    "```\n",
    "\n",
    "You should be able to use your index in the and, or, and_not functions created above to answer the three questions below."
   ]
  },
  {
   "cell_type": "code",
   "execution_count": 21,
   "id": "5835c3a9",
   "metadata": {
    "nbgrader": {
     "grade": false,
     "grade_id": "3_1-parametric-index",
     "locked": false,
     "schema_version": 3,
     "solution": true,
     "task": false
    }
   },
   "outputs": [],
   "source": [
    "def create_parametric_index(df: pd.DataFrame) -> Dict[str, List[int]]:\n",
    "    \"\"\"\n",
    "    >>> create_parametric_index(df)[\"actor:meryl-streep\"]\n",
    "    [993, 1152, 1383, 2129, 3727, 3845, 4121, 5203]\n",
    "    \n",
    "    >>> create_parametric_index(df)[\"director:quentin-tarantino\"]\n",
    "    [789, 1281]\n",
    "    \n",
    "    >>> create_parametric_index(df)[\"year:1975\"]\n",
    "    [20, 21]\n",
    "    \"\"\"\n",
    "    index = {}\n",
    "\n",
    "    ### BEGIN SOLUTION\n",
    "    index = defaultdict(list)\n",
    "    \n",
    "    for i, row in df.iterrows():\n",
    "        tokens = tokenize(row.title) + tokenize(row.description)\n",
    "        tokens = list(set(tokens))\n",
    "\n",
    "        for token in tokens:\n",
    "            index[token].append(row.id)\n",
    "\n",
    "        for genre in row.genres:\n",
    "            index[f\"genre:{genre}\"].append(row.id)\n",
    "\n",
    "        for actor in row.actors:\n",
    "            index[f\"actor:{actor}\"].append(row.id)\n",
    "\n",
    "        for director in row.directors:\n",
    "            index[f\"director:{director}\"].append(row.id)\n",
    "\n",
    "        index[f\"year:{row.release_year}\"].append(row.id)\n",
    "    ### END SOLUTION\n",
    "\n",
    "    return index\n",
    "\n",
    "\n",
    "parametric_index = create_parametric_index(df)"
   ]
  },
  {
   "cell_type": "code",
   "execution_count": 22,
   "id": "20520a76",
   "metadata": {
    "nbgrader": {
     "grade": true,
     "grade_id": "test_3_1-parametric-index",
     "locked": true,
     "points": 0,
     "schema_version": 3,
     "solution": false,
     "task": false
    },
    "scrolled": true
   },
   "outputs": [
    {
     "name": "stdout",
     "output_type": "stream",
     "text": [
      "Finding tests in create_parametric_index\n",
      "Trying:\n",
      "    create_parametric_index(df)[\"actor:meryl-streep\"]\n",
      "Expecting:\n",
      "    [993, 1152, 1383, 2129, 3727, 3845, 4121, 5203]\n",
      "ok\n",
      "Trying:\n",
      "    create_parametric_index(df)[\"director:quentin-tarantino\"]\n",
      "Expecting:\n",
      "    [789, 1281]\n",
      "ok\n",
      "Trying:\n",
      "    create_parametric_index(df)[\"year:1975\"]\n",
      "Expecting:\n",
      "    [20, 21]\n",
      "ok\n"
     ]
    }
   ],
   "source": [
    "test(create_parametric_index)"
   ]
  },
  {
   "cell_type": "markdown",
   "id": "6817c123",
   "metadata": {
    "nbgrader": {
     "grade": false,
     "grade_id": "cell-8d7d209d8270c6c4",
     "locked": true,
     "schema_version": 3,
     "solution": false,
     "task": false
    }
   },
   "source": [
    "### 3.2.1 Query I\n",
    "Which monty python movie was released in 1975?"
   ]
  },
  {
   "cell_type": "code",
   "execution_count": 23,
   "id": "3c3d91e8",
   "metadata": {
    "nbgrader": {
     "grade": false,
     "grade_id": "3_2_1-bonus",
     "locked": false,
     "schema_version": 3,
     "solution": true,
     "task": false
    }
   },
   "outputs": [],
   "source": [
    "answer = search_and(\n",
    "    ### BEGIN SOLUTION\n",
    "    parametric_index, [\"monty\", \"python\", \"year:1975\"]\n",
    "    ### END SOLUTION\n",
    ")"
   ]
  },
  {
   "cell_type": "code",
   "execution_count": 24,
   "id": "e3e31142",
   "metadata": {
    "nbgrader": {
     "grade": true,
     "grade_id": "test_3_2_1-bonus",
     "locked": true,
     "points": 0,
     "schema_version": 3,
     "solution": false,
     "task": false
    }
   },
   "outputs": [],
   "source": [
    "assert all([isinstance(a, str) for a in answer]), \"Expecting a list of movie titles\"\n",
    "### BEGIN HIDDEN TESTS\n",
    "assert answer == ['monty python and the holy grail']\n",
    "### END HIDDEN TESTS"
   ]
  },
  {
   "cell_type": "markdown",
   "id": "3f1b776a",
   "metadata": {
    "nbgrader": {
     "grade": false,
     "grade_id": "cell-f9d30b52c88d391e",
     "locked": true,
     "schema_version": 3,
     "solution": false,
     "task": false
    }
   },
   "source": [
    "### 3.2.2 Query II\n",
    "\n",
    "Which movies were directed by Steven Spielberg or star Leonardo DiCaprio as an actor?"
   ]
  },
  {
   "cell_type": "code",
   "execution_count": 25,
   "id": "8d2f9d8b",
   "metadata": {
    "nbgrader": {
     "grade": false,
     "grade_id": "3_2_2-bonus",
     "locked": false,
     "schema_version": 3,
     "solution": true,
     "task": false
    }
   },
   "outputs": [],
   "source": [
    "answer = search_or(\n",
    "    ### BEGIN SOLUTION\n",
    "    parametric_index, [\"director:steven-spielberg\", \"actor:leonardo-dicaprio\"]\n",
    "    ### END SOLUTION\n",
    ")"
   ]
  },
  {
   "cell_type": "code",
   "execution_count": 26,
   "id": "351c3091",
   "metadata": {
    "nbgrader": {
     "grade": true,
     "grade_id": "test_3_2_2-bonus",
     "locked": true,
     "points": 0,
     "schema_version": 3,
     "solution": false,
     "task": false
    }
   },
   "outputs": [],
   "source": [
    "assert all([isinstance(a, str) for a in answer]), \"Expecting a list of movie titles\"\n",
    "### BEGIN HIDDEN TESTS\n",
    "assert answer == sorted(['the quick and the dead', 'titanic', 'catch me if you can', 'the terminal', 'war of the worlds', 'the departed', 'blood diamond', 'inception', 'django unchained', \"don't look up\"])\n",
    "### END HIDDEN TESTS"
   ]
  },
  {
   "cell_type": "markdown",
   "id": "0312fd74",
   "metadata": {
    "nbgrader": {
     "grade": false,
     "grade_id": "cell-32ff839feaaa1fdb",
     "locked": true,
     "schema_version": 3,
     "solution": false,
     "task": false
    }
   },
   "source": [
    "### 3.2.3 Query III\n",
    "Which comedy special of the (comedian / actor) Taylor Tomlinson was released in 2022?"
   ]
  },
  {
   "cell_type": "code",
   "execution_count": 27,
   "id": "87c2a8b7",
   "metadata": {
    "nbgrader": {
     "grade": false,
     "grade_id": "3_2_3-bonus",
     "locked": false,
     "schema_version": 3,
     "solution": true,
     "task": false
    }
   },
   "outputs": [],
   "source": [
    "answer = search_and(\n",
    "    ### BEGIN SOLUTION\n",
    "    parametric_index, [\"actor:taylor-tomlinson\", \"year:2022\", \"genre:comedy\"]\n",
    "    ### END SOLUTION\n",
    ")"
   ]
  },
  {
   "cell_type": "code",
   "execution_count": 28,
   "id": "17d2d170",
   "metadata": {
    "nbgrader": {
     "grade": true,
     "grade_id": "test_3_2_3-bonus",
     "locked": true,
     "points": 0,
     "schema_version": 3,
     "solution": false,
     "task": false
    }
   },
   "outputs": [],
   "source": [
    "assert all([isinstance(a, str) for a in answer]), \"Expecting a list of movie titles\"\n",
    "### BEGIN HIDDEN TESTS\n",
    "assert answer == ['taylor tomlinson: look at you']\n",
    "### END HIDDEN TESTS"
   ]
  }
 ],
 "metadata": {
  "celltoolbar": "Create Assignment",
  "kernelspec": {
   "display_name": "Python 3 (ipykernel)",
   "language": "python",
   "name": "python3"
  },
  "language_info": {
   "codemirror_mode": {
    "name": "ipython",
    "version": 3
   },
   "file_extension": ".py",
   "mimetype": "text/x-python",
   "name": "python",
   "nbconvert_exporter": "python",
   "pygments_lexer": "ipython3",
   "version": "3.7.12"
  }
 },
 "nbformat": 4,
 "nbformat_minor": 5
}
